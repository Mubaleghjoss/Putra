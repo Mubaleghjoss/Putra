{
 "cells": [
  {
   "cell_type": "code",
   "execution_count": 1,
   "metadata": {},
   "outputs": [],
   "source": [
    "import numpy as np\n",
    "import matplotlib.pyplot as plt\n",
    "import pandas as pd"
   ]
  },
  {
   "cell_type": "code",
   "execution_count": 2,
   "metadata": {},
   "outputs": [
    {
     "data": {
      "text/html": [
       "<div>\n",
       "<style scoped>\n",
       "    .dataframe tbody tr th:only-of-type {\n",
       "        vertical-align: middle;\n",
       "    }\n",
       "\n",
       "    .dataframe tbody tr th {\n",
       "        vertical-align: top;\n",
       "    }\n",
       "\n",
       "    .dataframe thead th {\n",
       "        text-align: right;\n",
       "    }\n",
       "</style>\n",
       "<table border=\"1\" class=\"dataframe\">\n",
       "  <thead>\n",
       "    <tr style=\"text-align: right;\">\n",
       "      <th></th>\n",
       "      <th>User ID</th>\n",
       "      <th>Gender</th>\n",
       "      <th>Age</th>\n",
       "      <th>EstimatedSalary</th>\n",
       "      <th>Purchased</th>\n",
       "    </tr>\n",
       "  </thead>\n",
       "  <tbody>\n",
       "    <tr>\n",
       "      <th>2</th>\n",
       "      <td>15668575</td>\n",
       "      <td>Female</td>\n",
       "      <td>26</td>\n",
       "      <td>43000</td>\n",
       "      <td>0</td>\n",
       "    </tr>\n",
       "    <tr>\n",
       "      <th>120</th>\n",
       "      <td>15811613</td>\n",
       "      <td>Female</td>\n",
       "      <td>36</td>\n",
       "      <td>75000</td>\n",
       "      <td>0</td>\n",
       "    </tr>\n",
       "    <tr>\n",
       "      <th>154</th>\n",
       "      <td>15605327</td>\n",
       "      <td>Male</td>\n",
       "      <td>40</td>\n",
       "      <td>47000</td>\n",
       "      <td>0</td>\n",
       "    </tr>\n",
       "    <tr>\n",
       "      <th>325</th>\n",
       "      <td>15695679</td>\n",
       "      <td>Female</td>\n",
       "      <td>41</td>\n",
       "      <td>60000</td>\n",
       "      <td>0</td>\n",
       "    </tr>\n",
       "    <tr>\n",
       "      <th>215</th>\n",
       "      <td>15779529</td>\n",
       "      <td>Female</td>\n",
       "      <td>60</td>\n",
       "      <td>108000</td>\n",
       "      <td>1</td>\n",
       "    </tr>\n",
       "    <tr>\n",
       "      <th>140</th>\n",
       "      <td>15807909</td>\n",
       "      <td>Male</td>\n",
       "      <td>19</td>\n",
       "      <td>85000</td>\n",
       "      <td>0</td>\n",
       "    </tr>\n",
       "    <tr>\n",
       "      <th>101</th>\n",
       "      <td>15593014</td>\n",
       "      <td>Male</td>\n",
       "      <td>28</td>\n",
       "      <td>59000</td>\n",
       "      <td>0</td>\n",
       "    </tr>\n",
       "  </tbody>\n",
       "</table>\n",
       "</div>"
      ],
      "text/plain": [
       "      User ID  Gender  Age  EstimatedSalary  Purchased\n",
       "2    15668575  Female   26            43000          0\n",
       "120  15811613  Female   36            75000          0\n",
       "154  15605327    Male   40            47000          0\n",
       "325  15695679  Female   41            60000          0\n",
       "215  15779529  Female   60           108000          1\n",
       "140  15807909    Male   19            85000          0\n",
       "101  15593014    Male   28            59000          0"
      ]
     },
     "execution_count": 2,
     "metadata": {},
     "output_type": "execute_result"
    }
   ],
   "source": [
    "dataset = pd.read_csv('D:\\Social_Network_Ads.csv')\n",
    "dataset.sample(7)"
   ]
  },
  {
   "cell_type": "code",
   "execution_count": 3,
   "metadata": {},
   "outputs": [],
   "source": [
    "X = dataset.iloc[:,[2,3]].values\n",
    "y = dataset.iloc[:,[-1]].values"
   ]
  },
  {
   "cell_type": "code",
   "execution_count": 4,
   "metadata": {},
   "outputs": [],
   "source": [
    "from sklearn.model_selection import train_test_split\n",
    "X_train, X_test, y_train, y_test = train_test_split(X, y, test_size=0.25, random_state=0)\n",
    "   "
   ]
  },
  {
   "cell_type": "code",
   "execution_count": 5,
   "metadata": {},
   "outputs": [
    {
     "data": {
      "text/plain": [
       "(300, 2)"
      ]
     },
     "execution_count": 5,
     "metadata": {},
     "output_type": "execute_result"
    }
   ],
   "source": [
    "X_train.shape"
   ]
  },
  {
   "cell_type": "code",
   "execution_count": 6,
   "metadata": {},
   "outputs": [
    {
     "data": {
      "text/plain": [
       "(300, 1)"
      ]
     },
     "execution_count": 6,
     "metadata": {},
     "output_type": "execute_result"
    }
   ],
   "source": [
    "y_train.shape"
   ]
  },
  {
   "cell_type": "code",
   "execution_count": 7,
   "metadata": {},
   "outputs": [
    {
     "data": {
      "text/plain": [
       "(100, 2)"
      ]
     },
     "execution_count": 7,
     "metadata": {},
     "output_type": "execute_result"
    }
   ],
   "source": [
    "X_test.shape"
   ]
  },
  {
   "cell_type": "code",
   "execution_count": 8,
   "metadata": {},
   "outputs": [
    {
     "data": {
      "text/plain": [
       "(100, 1)"
      ]
     },
     "execution_count": 8,
     "metadata": {},
     "output_type": "execute_result"
    }
   ],
   "source": [
    "y_test.shape"
   ]
  },
  {
   "cell_type": "code",
   "execution_count": 15,
   "metadata": {},
   "outputs": [],
   "source": [
    "from sklearn.preprocessing import StandardScaler\n",
    "scaler = StandardScaler()\n",
    "X_train = scaler.fit_transform(X_train)\n",
    "X_test = scaler.fit_transform(X_test)"
   ]
  },
  {
   "cell_type": "code",
   "execution_count": 16,
   "metadata": {},
   "outputs": [
    {
     "name": "stderr",
     "output_type": "stream",
     "text": [
      "C:\\Users\\MT\\anaconda3\\lib\\site-packages\\sklearn\\utils\\validation.py:72: DataConversionWarning: A column-vector y was passed when a 1d array was expected. Please change the shape of y to (n_samples, ), for example using ravel().\n",
      "  return f(**kwargs)\n"
     ]
    },
    {
     "data": {
      "text/plain": [
       "LogisticRegression(random_state=0)"
      ]
     },
     "execution_count": 16,
     "metadata": {},
     "output_type": "execute_result"
    }
   ],
   "source": [
    "from sklearn.linear_model import LogisticRegression\n",
    "classifier = LogisticRegression(random_state = 0)\n",
    "classifier.fit(X_train, y_train)"
   ]
  },
  {
   "cell_type": "code",
   "execution_count": 17,
   "metadata": {},
   "outputs": [
    {
     "data": {
      "text/plain": [
       "array([0, 0, 0, 0, 0, 0, 0, 1, 0, 1, 0, 0, 0, 0, 0, 0, 0, 0, 1, 0, 0, 1,\n",
       "       0, 1, 0, 1, 0, 0, 0, 0, 0, 0, 1, 0, 0, 0, 0, 0, 0, 1, 0, 0, 0, 0,\n",
       "       1, 0, 0, 1, 0, 1, 1, 0, 0, 1, 1, 0, 0, 0, 0, 0, 0, 1, 0, 0, 0, 1,\n",
       "       0, 0, 0, 1, 1, 0, 0, 0, 0, 0, 1, 0, 1, 1, 1, 1, 0, 0, 1, 1, 0, 1,\n",
       "       0, 0, 0, 1, 0, 0, 0, 0, 0, 0, 1, 1], dtype=int64)"
      ]
     },
     "execution_count": 17,
     "metadata": {},
     "output_type": "execute_result"
    }
   ],
   "source": [
    "y_pred = classifier.predict(X_test)\n",
    "y_pred"
   ]
  },
  {
   "cell_type": "code",
   "execution_count": 20,
   "metadata": {},
   "outputs": [
    {
     "data": {
      "text/plain": [
       "array([0], dtype=int64)"
      ]
     },
     "execution_count": 20,
     "metadata": {},
     "output_type": "execute_result"
    }
   ],
   "source": [
    "sample = np.array([[20, 18500]])\n",
    "sample = scaler.transform(sample)\n",
    "sample_pred = classifier.predict(sample)\n",
    "sample_pred"
   ]
  },
  {
   "cell_type": "code",
   "execution_count": 21,
   "metadata": {},
   "outputs": [
    {
     "data": {
      "text/plain": [
       "array([0, 0, 0, 0, 0, 0, 0, 1, 0, 0, 0, 0, 0, 0, 0, 0, 0, 0, 1, 0, 0, 1,\n",
       "       0, 1, 0, 1, 0, 0, 0, 0, 0, 1, 1, 0, 0, 0, 0, 0, 0, 1, 0, 0, 0, 0,\n",
       "       1, 0, 0, 1, 0, 1, 1, 0, 0, 0, 1, 1, 0, 0, 1, 0, 0, 1, 0, 1, 0, 1,\n",
       "       0, 0, 0, 0, 1, 0, 0, 1, 0, 0, 0, 0, 1, 1, 1, 0, 0, 0, 1, 1, 0, 1,\n",
       "       1, 0, 0, 1, 0, 0, 0, 1, 0, 1, 1, 1], dtype=int64)"
      ]
     },
     "execution_count": 21,
     "metadata": {},
     "output_type": "execute_result"
    }
   ],
   "source": [
    "y_actual = y_test.flatten()\n",
    "y_actual"
   ]
  },
  {
   "cell_type": "code",
   "execution_count": 39,
   "metadata": {},
   "outputs": [
    {
     "name": "stdout",
     "output_type": "stream",
     "text": [
      "Hasil aktual: 0 hasil prediksi: 0\n",
      "Hasil aktual: 0 hasil prediksi: 0\n",
      "Hasil aktual: 0 hasil prediksi: 0\n",
      "Hasil aktual: 0 hasil prediksi: 0\n",
      "Hasil aktual: 0 hasil prediksi: 0\n",
      "Hasil aktual: 0 hasil prediksi: 0\n",
      "Hasil aktual: 0 hasil prediksi: 0\n",
      "Hasil aktual: 1 hasil prediksi: 1\n",
      "Hasil aktual: 0 hasil prediksi: 0\n",
      "Hasil aktual: 0 hasil prediksi: 1\n",
      "Hasil aktual: 0 hasil prediksi: 0\n",
      "Hasil aktual: 0 hasil prediksi: 0\n",
      "Hasil aktual: 0 hasil prediksi: 0\n",
      "Hasil aktual: 0 hasil prediksi: 0\n",
      "Hasil aktual: 0 hasil prediksi: 0\n",
      "Hasil aktual: 0 hasil prediksi: 0\n",
      "Hasil aktual: 0 hasil prediksi: 0\n",
      "Hasil aktual: 0 hasil prediksi: 0\n",
      "Hasil aktual: 1 hasil prediksi: 1\n",
      "Hasil aktual: 0 hasil prediksi: 0\n",
      "Hasil aktual: 0 hasil prediksi: 0\n",
      "Hasil aktual: 1 hasil prediksi: 1\n",
      "Hasil aktual: 0 hasil prediksi: 0\n",
      "Hasil aktual: 1 hasil prediksi: 1\n",
      "Hasil aktual: 0 hasil prediksi: 0\n",
      "Hasil aktual: 1 hasil prediksi: 1\n",
      "Hasil aktual: 0 hasil prediksi: 0\n",
      "Hasil aktual: 0 hasil prediksi: 0\n",
      "Hasil aktual: 0 hasil prediksi: 0\n",
      "Hasil aktual: 0 hasil prediksi: 0\n",
      "Hasil aktual: 0 hasil prediksi: 0\n",
      "Hasil aktual: 1 hasil prediksi: 0\n",
      "Hasil aktual: 1 hasil prediksi: 1\n",
      "Hasil aktual: 0 hasil prediksi: 0\n",
      "Hasil aktual: 0 hasil prediksi: 0\n",
      "Hasil aktual: 0 hasil prediksi: 0\n",
      "Hasil aktual: 0 hasil prediksi: 0\n",
      "Hasil aktual: 0 hasil prediksi: 0\n",
      "Hasil aktual: 0 hasil prediksi: 0\n",
      "Hasil aktual: 1 hasil prediksi: 1\n",
      "Hasil aktual: 0 hasil prediksi: 0\n",
      "Hasil aktual: 0 hasil prediksi: 0\n",
      "Hasil aktual: 0 hasil prediksi: 0\n",
      "Hasil aktual: 0 hasil prediksi: 0\n",
      "Hasil aktual: 1 hasil prediksi: 1\n",
      "Hasil aktual: 0 hasil prediksi: 0\n",
      "Hasil aktual: 0 hasil prediksi: 0\n",
      "Hasil aktual: 1 hasil prediksi: 1\n",
      "Hasil aktual: 0 hasil prediksi: 0\n",
      "Hasil aktual: 1 hasil prediksi: 1\n",
      "Hasil aktual: 1 hasil prediksi: 1\n",
      "Hasil aktual: 0 hasil prediksi: 0\n",
      "Hasil aktual: 0 hasil prediksi: 0\n",
      "Hasil aktual: 0 hasil prediksi: 1\n",
      "Hasil aktual: 1 hasil prediksi: 1\n",
      "Hasil aktual: 1 hasil prediksi: 0\n",
      "Hasil aktual: 0 hasil prediksi: 0\n",
      "Hasil aktual: 0 hasil prediksi: 0\n",
      "Hasil aktual: 1 hasil prediksi: 0\n",
      "Hasil aktual: 0 hasil prediksi: 0\n",
      "Hasil aktual: 0 hasil prediksi: 0\n",
      "Hasil aktual: 1 hasil prediksi: 1\n",
      "Hasil aktual: 0 hasil prediksi: 0\n",
      "Hasil aktual: 1 hasil prediksi: 0\n",
      "Hasil aktual: 0 hasil prediksi: 0\n",
      "Hasil aktual: 1 hasil prediksi: 1\n",
      "Hasil aktual: 0 hasil prediksi: 0\n",
      "Hasil aktual: 0 hasil prediksi: 0\n",
      "Hasil aktual: 0 hasil prediksi: 0\n",
      "Hasil aktual: 0 hasil prediksi: 1\n",
      "Hasil aktual: 1 hasil prediksi: 1\n",
      "Hasil aktual: 0 hasil prediksi: 0\n",
      "Hasil aktual: 0 hasil prediksi: 0\n",
      "Hasil aktual: 1 hasil prediksi: 0\n",
      "Hasil aktual: 0 hasil prediksi: 0\n",
      "Hasil aktual: 0 hasil prediksi: 0\n",
      "Hasil aktual: 0 hasil prediksi: 1\n",
      "Hasil aktual: 0 hasil prediksi: 0\n",
      "Hasil aktual: 1 hasil prediksi: 1\n",
      "Hasil aktual: 1 hasil prediksi: 1\n",
      "Hasil aktual: 1 hasil prediksi: 1\n",
      "Hasil aktual: 0 hasil prediksi: 1\n",
      "Hasil aktual: 0 hasil prediksi: 0\n",
      "Hasil aktual: 0 hasil prediksi: 0\n",
      "Hasil aktual: 1 hasil prediksi: 1\n",
      "Hasil aktual: 1 hasil prediksi: 1\n",
      "Hasil aktual: 0 hasil prediksi: 0\n",
      "Hasil aktual: 1 hasil prediksi: 1\n",
      "Hasil aktual: 1 hasil prediksi: 0\n",
      "Hasil aktual: 0 hasil prediksi: 0\n",
      "Hasil aktual: 0 hasil prediksi: 0\n",
      "Hasil aktual: 1 hasil prediksi: 1\n",
      "Hasil aktual: 0 hasil prediksi: 0\n",
      "Hasil aktual: 0 hasil prediksi: 0\n",
      "Hasil aktual: 0 hasil prediksi: 0\n",
      "Hasil aktual: 1 hasil prediksi: 0\n",
      "Hasil aktual: 0 hasil prediksi: 0\n",
      "Hasil aktual: 1 hasil prediksi: 0\n",
      "Hasil aktual: 1 hasil prediksi: 1\n",
      "Hasil aktual: 1 hasil prediksi: 1\n"
     ]
    }
   ],
   "source": [
    "for i in range(len(y_actual)):\n",
    "        print(f'Hasil aktual: {y_actual[i]} hasil prediksi: {y_pred[i]}')"
   ]
  },
  {
   "cell_type": "code",
   "execution_count": 46,
   "metadata": {},
   "outputs": [
    {
     "name": "stderr",
     "output_type": "stream",
     "text": [
      "No handles with labels found to put in legend.\n"
     ]
    },
    {
     "data": {
      "image/png": "[encoded data removed]",
      "text/plain": [
       "<Figure size 432x288 with 1 Axes>"
      ]
     },
     "metadata": {
      "needs_background": "light"
     },
     "output_type": "display_data"
    }
   ],
   "source": [
    "from matplotlib.colors import ListedColormap\n",
    "X_set, y_set = X_test, y_test\n",
    "X1, X2 = np.meshgrid(np.arange(start = X_set[:, 0].min() - 1, stop = X_set[:, 0].max() + 1, step = 0.01),\n",
    "np.arange(start = X_set[:, 1].min() - 1, stop = X_set[:, 1].max() + 1, step = 0.01))\n",
    "plt.contourf(X1, X2, classifier.predict(np.array([X1.ravel(), X2.ravel()]).T).reshape(X1.shape),\n",
    "alpha = 0.55, cmap = ListedColormap(('blue', 'red')))\n",
    "plt.xlim(X1.min(), X1.max())\n",
    "plt.ylim(X2.min(), X2.max())\n",
    "# for i, j in enumerate(np.unique(y_set)):\n",
    "#    plt.scatter(X_set[y_set == j, 0], X_set[y_set == j, 1],\n",
    "#        c = ListedColormap(('blue', 'red'))(i), label = j)\n",
    "plt.title('Logistic Regression (Test set)')\n",
    "plt.xlabel('Age')\n",
    "plt.ylabel('Estimated Salary')\n",
    "plt.legend()\n",
    "plt.show()"
   ]
  },
  {
   "cell_type": "code",
   "execution_count": 43,
   "metadata": {},
   "outputs": [],
   "source": [
    "import numpy as np\n",
    "\n",
    "X_set = np.arange(20).reshape(10, 2)\n",
    "y_set = np.array([0, 1, 1, 1, 0, 0, 1, 1, 0, 1])"
   ]
  },
  {
   "cell_type": "code",
   "execution_count": 44,
   "metadata": {},
   "outputs": [
    {
     "name": "stderr",
     "output_type": "stream",
     "text": [
      "*c* argument looks like a single numeric RGB or RGBA sequence, which should be avoided as value-mapping will have precedence in case its length matches with *x* & *y*.  Please use the *color* keyword-argument or provide a 2-D array with a single row if you intend to specify the same RGB or RGBA value for all points.\n"
     ]
    },
    {
     "data": {
      "image/png": "[encoded data removed]",
      "text/plain": [
       "<Figure size 432x288 with 1 Axes>"
      ]
     },
     "metadata": {
      "needs_background": "light"
     },
     "output_type": "display_data"
    }
   ],
   "source": [
    "for i, j in enumerate(np.unique(y_set)):\n",
    "    plt.scatter(X_set[y_set == j, 0], X_set[y_set == j, 1],\n",
    "        c = ListedColormap(('blue', 'red'))(i), label = j)"
   ]
  },
  {
   "cell_type": "code",
   "execution_count": null,
   "metadata": {},
   "outputs": [],
   "source": []
  }
 ],
 "metadata": {
  "kernelspec": {
   "display_name": "Python 3",
   "language": "python",
   "name": "python3"
  },
  "language_info": {
   "codemirror_mode": {
    "name": "ipython",
    "version": 3
   },
   "file_extension": ".py",
   "mimetype": "text/x-python",
   "name": "python",
   "nbconvert_exporter": "python",
   "pygments_lexer": "ipython3",
   "version": "3.8.5"
  }
 },
 "nbformat": 4,
 "nbformat_minor": 4
}
